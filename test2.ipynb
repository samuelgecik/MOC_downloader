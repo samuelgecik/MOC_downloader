{
 "cells": [
  {
   "cell_type": "code",
   "execution_count": 2,
   "metadata": {},
   "outputs": [
    {
     "ename": "ModuleNotFoundError",
     "evalue": "No module named 'scraping'",
     "output_type": "error",
     "traceback": [
      "\u001b[1;31m---------------------------------------------------------------------------\u001b[0m",
      "\u001b[1;31mModuleNotFoundError\u001b[0m                       Traceback (most recent call last)",
      "Cell \u001b[1;32mIn[2], line 1\u001b[0m\n\u001b[1;32m----> 1\u001b[0m \u001b[38;5;28;01mfrom\u001b[39;00m \u001b[38;5;21;01msrc\u001b[39;00m \u001b[38;5;28;01mimport\u001b[39;00m LinkScraper, Downloader, CourseInfo\n",
      "File \u001b[1;32mc:\\Users\\samo\\dev\\MOC_downloader\\src\\__init__.py:3\u001b[0m\n\u001b[0;32m      1\u001b[0m \u001b[38;5;28;01mfrom\u001b[39;00m \u001b[38;5;21;01m.\u001b[39;00m\u001b[38;5;21;01mdownloading\u001b[39;00m \u001b[38;5;28;01mimport\u001b[39;00m \u001b[38;5;241m*\u001b[39m\n\u001b[0;32m      2\u001b[0m \u001b[38;5;28;01mfrom\u001b[39;00m \u001b[38;5;21;01m.\u001b[39;00m\u001b[38;5;21;01mscraping\u001b[39;00m \u001b[38;5;28;01mimport\u001b[39;00m \u001b[38;5;241m*\u001b[39m\n\u001b[1;32m----> 3\u001b[0m \u001b[38;5;28;01mfrom\u001b[39;00m \u001b[38;5;21;01m.\u001b[39;00m\u001b[38;5;21;01mcourse_info\u001b[39;00m \u001b[38;5;28;01mimport\u001b[39;00m \u001b[38;5;241m*\u001b[39m\n\u001b[0;32m      4\u001b[0m \u001b[38;5;28;01mfrom\u001b[39;00m \u001b[38;5;21;01m.\u001b[39;00m\u001b[38;5;21;01mvideo\u001b[39;00m \u001b[38;5;28;01mimport\u001b[39;00m \u001b[38;5;241m*\u001b[39m\n",
      "File \u001b[1;32mc:\\Users\\samo\\dev\\MOC_downloader\\src\\course_info.py:3\u001b[0m\n\u001b[0;32m      1\u001b[0m \u001b[38;5;28;01mimport\u001b[39;00m \u001b[38;5;21;01maiohttp\u001b[39;00m\n\u001b[0;32m      2\u001b[0m \u001b[38;5;28;01mimport\u001b[39;00m \u001b[38;5;21;01masyncio\u001b[39;00m\n\u001b[1;32m----> 3\u001b[0m \u001b[38;5;28;01mfrom\u001b[39;00m \u001b[38;5;21;01mscraping\u001b[39;00m \u001b[38;5;28;01mimport\u001b[39;00m LinkScraper\n\u001b[0;32m      4\u001b[0m \u001b[38;5;28;01mfrom\u001b[39;00m \u001b[38;5;21;01mvideo\u001b[39;00m \u001b[38;5;28;01mimport\u001b[39;00m Video\n\u001b[0;32m      6\u001b[0m TIMEOUT \u001b[38;5;241m=\u001b[39m aiohttp\u001b[38;5;241m.\u001b[39mClientTimeout(total\u001b[38;5;241m=\u001b[39m\u001b[38;5;241m60\u001b[39m\u001b[38;5;241m*\u001b[39m\u001b[38;5;241m60\u001b[39m)\n",
      "\u001b[1;31mModuleNotFoundError\u001b[0m: No module named 'scraping'"
     ]
    }
   ],
   "source": [
    "from src import LinkScraper, Downloader, CourseInfo"
   ]
  },
  {
   "cell_type": "code",
   "execution_count": 13,
   "metadata": {},
   "outputs": [],
   "source": [
    "website = \"https://ocw.mit.edu/courses/mas-s62-cryptocurrency-engineering-and-design-spring-2018/\"\n",
    "\n",
    "scraper = LinkScraper(website)"
   ]
  },
  {
   "cell_type": "code",
   "execution_count": 14,
   "metadata": {},
   "outputs": [
    {
     "data": {
      "text/plain": [
       "'Mas S62 Cryptocurrency Engineering And Design Spring 2018'"
      ]
     },
     "execution_count": 14,
     "metadata": {},
     "output_type": "execute_result"
    }
   ],
   "source": [
    "website[website.rfind(\"/\", 0, -1) :].replace(\"/\", \"\").replace(\"-\", \" \").title()"
   ]
  },
  {
   "cell_type": "code",
   "execution_count": 15,
   "metadata": {},
   "outputs": [
    {
     "data": {
      "text/plain": [
       "'https://ocw.mit.edu/courses/mas-s62-cryptocurrency-engineering-and-design-spring-2018/'"
      ]
     },
     "execution_count": 15,
     "metadata": {},
     "output_type": "execute_result"
    }
   ],
   "source": [
    "scraper.website\n"
   ]
  },
  {
   "cell_type": "code",
   "execution_count": 16,
   "metadata": {},
   "outputs": [
    {
     "data": {
      "text/plain": [
       "['https://archive.org/download/MITMAS.S62S18/MITMAS_S62S18_lec01_300k.mp4',\n",
       " 'https://archive.org/download/MITMAS.S62S18/MITMAS_S62S18_lec02_300k.mp4',\n",
       " 'https://archive.org/download/MITMAS.S62S18/MITMAS_S62S18_lec03_300k.mp4',\n",
       " 'https://archive.org/download/MITMAS.S62S18/MITMAS_S62S18_lec04_300k.mp4',\n",
       " 'https://archive.org/download/MITMAS.S62S18/MITMAS_S62S18_lec05_300k.mp4',\n",
       " 'https://archive.org/download/MITMAS.S62S18/MITMAS_S62S18_lec06_300k.mp4',\n",
       " 'https://archive.org/download/MITMAS.S62S18/MITMAS_S62S18_lec07_300k.mp4',\n",
       " 'https://archive.org/download/MITMAS.S62S18/MITMAS_S62S18_lec08_300k.mp4',\n",
       " 'https://archive.org/download/MITMAS.S62S18/MITMAS_S62S18_lec10_300k.mp4',\n",
       " 'https://archive.org/download/MITMAS.S62S18/MITMAS_S62S18_lec11_300k.mp4']"
      ]
     },
     "execution_count": 16,
     "metadata": {},
     "output_type": "execute_result"
    }
   ],
   "source": [
    "scraper.get_all_links()"
   ]
  },
  {
   "cell_type": "code",
   "execution_count": 17,
   "metadata": {},
   "outputs": [],
   "source": [
    "info = await CourseInfo.create(scraper)"
   ]
  },
  {
   "cell_type": "code",
   "execution_count": 22,
   "metadata": {},
   "outputs": [
    {
     "name": "stdout",
     "output_type": "stream",
     "text": [
      "Mas S62 Cryptocurrency Engineering And Design Spring 2018\n",
      "1.62 GB\n"
     ]
    }
   ],
   "source": [
    "print(info.course_name)\n",
    "print(info.total_size)"
   ]
  },
  {
   "cell_type": "code",
   "execution_count": 8,
   "metadata": {},
   "outputs": [
    {
     "name": "stdout",
     "output_type": "stream",
     "text": [
      "['MITMAS_S62S18_lec01_300k.mp4', 'MITMAS_S62S18_lec02_300k.mp4', 'MITMAS_S62S18_lec03_300k.mp4', 'MITMAS_S62S18_lec04_300k.mp4', 'MITMAS_S62S18_lec05_300k.mp4', 'MITMAS_S62S18_lec06_300k.mp4', 'MITMAS_S62S18_lec07_300k.mp4', 'MITMAS_S62S18_lec08_300k.mp4', 'MITMAS_S62S18_lec10_300k.mp4', 'MITMAS_S62S18_lec11_300k.mp4']\n"
     ]
    }
   ],
   "source": [
    "print([video.name for video in info.videos])"
   ]
  },
  {
   "cell_type": "code",
   "execution_count": 9,
   "metadata": {},
   "outputs": [
    {
     "ename": "TypeError",
     "evalue": "Downloader.__init__() missing 1 required positional argument: 'output_folder'",
     "output_type": "error",
     "traceback": [
      "\u001b[1;31m---------------------------------------------------------------------------\u001b[0m",
      "\u001b[1;31mTypeError\u001b[0m                                 Traceback (most recent call last)",
      "Cell \u001b[1;32mIn[9], line 1\u001b[0m\n\u001b[1;32m----> 1\u001b[0m downlader \u001b[38;5;241m=\u001b[39m \u001b[43mDownloader\u001b[49m\u001b[43m(\u001b[49m\u001b[43mscraper\u001b[49m\u001b[38;5;241;43m.\u001b[39;49m\u001b[43mget_all_links\u001b[49m\u001b[43m(\u001b[49m\u001b[43m)\u001b[49m\u001b[43m)\u001b[49m\n\u001b[0;32m      2\u001b[0m \u001b[38;5;28;01mawait\u001b[39;00m downlader\u001b[38;5;241m.\u001b[39mdownload_all()\n",
      "\u001b[1;31mTypeError\u001b[0m: Downloader.__init__() missing 1 required positional argument: 'output_folder'"
     ]
    }
   ],
   "source": [
    "downlader = Downloader(scraper.get_all_links())\n",
    "await downlader.download_all()"
   ]
  },
  {
   "cell_type": "code",
   "execution_count": null,
   "metadata": {},
   "outputs": [
    {
     "name": "stdout",
     "output_type": "stream",
     "text": [
      "['a', 'c']\n"
     ]
    }
   ],
   "source": [
    "kol = ['a', 'b', 'c', 'd']\n",
    "indicies = [0, 2]\n",
    "# how to get the elements at the indicies\n",
    "print([kol[i] for i in indicies])\n"
   ]
  },
  {
   "cell_type": "code",
   "execution_count": null,
   "metadata": {},
   "outputs": [],
   "source": []
  }
 ],
 "metadata": {
  "kernelspec": {
   "display_name": ".venv",
   "language": "python",
   "name": "python3"
  },
  "language_info": {
   "codemirror_mode": {
    "name": "ipython",
    "version": 3
   },
   "file_extension": ".py",
   "mimetype": "text/x-python",
   "name": "python",
   "nbconvert_exporter": "python",
   "pygments_lexer": "ipython3",
   "version": "3.11.7"
  }
 },
 "nbformat": 4,
 "nbformat_minor": 2
}
